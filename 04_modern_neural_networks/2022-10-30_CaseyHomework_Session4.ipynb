{
 "cells": [
  {
   "cell_type": "markdown",
   "id": "5e4023ed",
   "metadata": {},
   "source": [
    "The code in the cell immediately below (excluding comments) was given by David Horner in the Slack channel for week 4:"
   ]
  },
  {
   "cell_type": "code",
   "execution_count": 43,
   "id": "f301915e",
   "metadata": {},
   "outputs": [],
   "source": [
    "import pandas as pd\n",
    "import re\n",
    "with open(\"resnet_output.txt\") as f: #changed training_report to \"resnet_output.txt\"\n",
    "    lines = f.readlines()\n",
    "li = []\n",
    "for line in lines:\n",
    "    if(re.match(r'^Finished step ', line)):\n",
    "        x = re.search(r'^Finished step (?P<step>\\d*) of (?P<tot_steps>\\d*) in epoch (?P<epoch>\\d*),loss=(?P<loss>[\\d.]*), acc=(?P<acc>[\\d.]*) \\((?P<ips>[\\d.]*)', line)\n",
    "        li.append(x.groupdict())\n",
    "        \n",
    "df = pd.DataFrame(li) "
   ]
  },
  {
   "cell_type": "code",
   "execution_count": 44,
   "id": "78f8ac6c",
   "metadata": {},
   "outputs": [
    {
     "data": {
      "text/html": [
       "<div>\n",
       "<style scoped>\n",
       "    .dataframe tbody tr th:only-of-type {\n",
       "        vertical-align: middle;\n",
       "    }\n",
       "\n",
       "    .dataframe tbody tr th {\n",
       "        vertical-align: top;\n",
       "    }\n",
       "\n",
       "    .dataframe thead th {\n",
       "        text-align: right;\n",
       "    }\n",
       "</style>\n",
       "<table border=\"1\" class=\"dataframe\">\n",
       "  <thead>\n",
       "    <tr style=\"text-align: right;\">\n",
       "      <th></th>\n",
       "      <th>step</th>\n",
       "      <th>tot_steps</th>\n",
       "      <th>epoch</th>\n",
       "      <th>loss</th>\n",
       "      <th>acc</th>\n",
       "      <th>ips</th>\n",
       "    </tr>\n",
       "  </thead>\n",
       "  <tbody>\n",
       "    <tr>\n",
       "      <th>0</th>\n",
       "      <td>1</td>\n",
       "      <td>5004</td>\n",
       "      <td>0</td>\n",
       "      <td>83.713</td>\n",
       "      <td>0.004</td>\n",
       "      <td>15.056</td>\n",
       "    </tr>\n",
       "    <tr>\n",
       "      <th>1</th>\n",
       "      <td>2</td>\n",
       "      <td>5004</td>\n",
       "      <td>0</td>\n",
       "      <td>46.097</td>\n",
       "      <td>0.008</td>\n",
       "      <td>1124.715</td>\n",
       "    </tr>\n",
       "    <tr>\n",
       "      <th>2</th>\n",
       "      <td>3</td>\n",
       "      <td>5004</td>\n",
       "      <td>0</td>\n",
       "      <td>27.158</td>\n",
       "      <td>0.000</td>\n",
       "      <td>1137.371</td>\n",
       "    </tr>\n",
       "    <tr>\n",
       "      <th>3</th>\n",
       "      <td>4</td>\n",
       "      <td>5004</td>\n",
       "      <td>0</td>\n",
       "      <td>17.372</td>\n",
       "      <td>0.008</td>\n",
       "      <td>1143.787</td>\n",
       "    </tr>\n",
       "    <tr>\n",
       "      <th>4</th>\n",
       "      <td>5</td>\n",
       "      <td>5004</td>\n",
       "      <td>0</td>\n",
       "      <td>13.281</td>\n",
       "      <td>0.000</td>\n",
       "      <td>1130.548</td>\n",
       "    </tr>\n",
       "    <tr>\n",
       "      <th>...</th>\n",
       "      <td>...</td>\n",
       "      <td>...</td>\n",
       "      <td>...</td>\n",
       "      <td>...</td>\n",
       "      <td>...</td>\n",
       "      <td>...</td>\n",
       "    </tr>\n",
       "    <tr>\n",
       "      <th>8708</th>\n",
       "      <td>3705</td>\n",
       "      <td>5004</td>\n",
       "      <td>1</td>\n",
       "      <td>3.045</td>\n",
       "      <td>0.402</td>\n",
       "      <td>722.036</td>\n",
       "    </tr>\n",
       "    <tr>\n",
       "      <th>8709</th>\n",
       "      <td>3706</td>\n",
       "      <td>5004</td>\n",
       "      <td>1</td>\n",
       "      <td>2.824</td>\n",
       "      <td>0.387</td>\n",
       "      <td>738.324</td>\n",
       "    </tr>\n",
       "    <tr>\n",
       "      <th>8710</th>\n",
       "      <td>3707</td>\n",
       "      <td>5004</td>\n",
       "      <td>1</td>\n",
       "      <td>3.250</td>\n",
       "      <td>0.301</td>\n",
       "      <td>688.463</td>\n",
       "    </tr>\n",
       "    <tr>\n",
       "      <th>8711</th>\n",
       "      <td>3708</td>\n",
       "      <td>5004</td>\n",
       "      <td>1</td>\n",
       "      <td>3.147</td>\n",
       "      <td>0.285</td>\n",
       "      <td>675.981</td>\n",
       "    </tr>\n",
       "    <tr>\n",
       "      <th>8712</th>\n",
       "      <td>3709</td>\n",
       "      <td>5004</td>\n",
       "      <td>1</td>\n",
       "      <td>2.881</td>\n",
       "      <td>0.410</td>\n",
       "      <td>760.544</td>\n",
       "    </tr>\n",
       "  </tbody>\n",
       "</table>\n",
       "<p>8713 rows × 6 columns</p>\n",
       "</div>"
      ],
      "text/plain": [
       "      step tot_steps epoch    loss    acc       ips\n",
       "0        1      5004     0  83.713  0.004    15.056\n",
       "1        2      5004     0  46.097  0.008  1124.715\n",
       "2        3      5004     0  27.158  0.000  1137.371\n",
       "3        4      5004     0  17.372  0.008  1143.787\n",
       "4        5      5004     0  13.281  0.000  1130.548\n",
       "...    ...       ...   ...     ...    ...       ...\n",
       "8708  3705      5004     1   3.045  0.402   722.036\n",
       "8709  3706      5004     1   2.824  0.387   738.324\n",
       "8710  3707      5004     1   3.250  0.301   688.463\n",
       "8711  3708      5004     1   3.147  0.285   675.981\n",
       "8712  3709      5004     1   2.881  0.410   760.544\n",
       "\n",
       "[8713 rows x 6 columns]"
      ]
     },
     "execution_count": 44,
     "metadata": {},
     "output_type": "execute_result"
    }
   ],
   "source": [
    "df"
   ]
  },
  {
   "cell_type": "code",
   "execution_count": 45,
   "id": "a9bee656",
   "metadata": {},
   "outputs": [
    {
     "data": {
      "text/plain": [
       "0       83.713\n",
       "1       46.097\n",
       "2       27.158\n",
       "3       17.372\n",
       "4       13.281\n",
       "         ...  \n",
       "8708     3.045\n",
       "8709     2.824\n",
       "8710     3.250\n",
       "8711     3.147\n",
       "8712     2.881\n",
       "Name: loss, Length: 8713, dtype: object"
      ]
     },
     "execution_count": 45,
     "metadata": {},
     "output_type": "execute_result"
    }
   ],
   "source": [
    "df['loss']"
   ]
  },
  {
   "cell_type": "code",
   "execution_count": 54,
   "id": "8b7df5aa",
   "metadata": {},
   "outputs": [
    {
     "name": "stdout",
     "output_type": "stream",
     "text": [
      "this is the sum of iters 19402705\n",
      "this is iters [   1    2    3 ... 3707 3708 3709]\n",
      "this is losses [83.713 46.097 27.158 ...  3.25   3.147  2.881]\n",
      "this is accs [0.004 0.008 0.    ... 0.301 0.285 0.41 ]\n"
     ]
    },
    {
     "data": {
      "text/plain": [
       "Text(0.5, 1.0, 'Training Losses vs. Iterations')"
      ]
     },
     "execution_count": 54,
     "metadata": {},
     "output_type": "execute_result"
    },
    {
     "data": {
      "image/png": "[encoded data removed]",
      "text/plain": [
       "<Figure size 432x288 with 1 Axes>"
      ]
     },
     "metadata": {
      "needs_background": "light"
     },
     "output_type": "display_data"
    }
   ],
   "source": [
    "%matplotlib inline\n",
    "import matplotlib.pyplot as plt\n",
    "import numpy as np\n",
    "\n",
    "iters = df['step'].to_numpy(dtype=\"int\")\n",
    "losses = df['loss'].to_numpy(dtype=\"float32\")\n",
    "accs = df['acc'].to_numpy(dtype=\"float32\")\n",
    "\n",
    "print('this is the sum of iters', np.sum(iters))\n",
    "print('this is iters', iters)\n",
    "print('this is losses', losses)\n",
    "print('this is accs', accs)\n",
    "\n",
    "plt.plot(iters[0:5004], losses[0:5004])\n",
    "plt.title('Training Losses vs. Iterations')\n",
    "\n"
   ]
  },
  {
   "cell_type": "code",
   "execution_count": 55,
   "id": "fc810613",
   "metadata": {},
   "outputs": [
    {
     "data": {
      "text/plain": [
       "Text(0.5, 1.0, 'Training Accuracies vs. Iterations')"
      ]
     },
     "execution_count": 55,
     "metadata": {},
     "output_type": "execute_result"
    },
    {
     "data": {
      "image/png": "[encoded data removed]",
      "text/plain": [
       "<Figure size 432x288 with 1 Axes>"
      ]
     },
     "metadata": {
      "needs_background": "light"
     },
     "output_type": "display_data"
    }
   ],
   "source": [
    "plt.clf()\n",
    "plt.plot(iters[0:5004], accs[0:5004])\n",
    "plt.title('Training Accuracies vs. Iterations')"
   ]
  },
  {
   "cell_type": "code",
   "execution_count": null,
   "id": "b67dcaa3",
   "metadata": {},
   "outputs": [],
   "source": []
  }
 ],
 "metadata": {
  "kernelspec": {
   "display_name": "conda/2022-07-01",
   "language": "python",
   "name": "conda-2022-07-01"
  },
  "language_info": {
   "codemirror_mode": {
    "name": "ipython",
    "version": 3
   },
   "file_extension": ".py",
   "mimetype": "text/x-python",
   "name": "python",
   "nbconvert_exporter": "python",
   "pygments_lexer": "ipython3",
   "version": "3.8.13"
  }
 },
 "nbformat": 4,
 "nbformat_minor": 5
}
